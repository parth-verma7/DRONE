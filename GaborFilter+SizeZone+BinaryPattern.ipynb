{
  "cells": [
    {
      "cell_type": "code",
      "source": [
        "from google.colab import drive\n",
        "drive.mount('/content/drive')"
      ],
      "metadata": {
        "colab": {
          "base_uri": "https://localhost:8080/"
        },
        "id": "Q8eUB6G5I6iv",
        "outputId": "98a699c2-119a-409c-9460-ff29cb969792"
      },
      "execution_count": null,
      "outputs": [
        {
          "output_type": "stream",
          "name": "stdout",
          "text": [
            "Mounted at /content/drive\n"
          ]
        }
      ]
    },
    {
      "cell_type": "code",
      "source": [
        "!unzip /content/drive/MyDrive/ml_projects/drone/videos1.zip"
      ],
      "metadata": {
        "id": "3_zbB2OMUiGd",
        "colab": {
          "base_uri": "https://localhost:8080/"
        },
        "outputId": "12b53437-d6a0-4f56-c441-b5259eef228f"
      },
      "execution_count": null,
      "outputs": [
        {
          "output_type": "stream",
          "name": "stdout",
          "text": [
            "Archive:  /content/drive/MyDrive/ml_projects/drone/videos1.zip\n",
            "   creating: videos/\n",
            "   creating: videos/flood/\n",
            "  inflating: videos/flood/flood6.mp4  \n",
            "  inflating: videos/flood/flood0.webm  \n",
            "  inflating: videos/flood/flood8.webm  \n",
            "  inflating: videos/flood/flood9.webm  \n",
            "  inflating: videos/flood/fllood3.mp4  \n",
            "  inflating: videos/flood/flood1.webm  \n",
            "  inflating: videos/flood/flood2.webm  \n",
            "  inflating: videos/flood/fllood4.mp4  \n",
            "  inflating: videos/flood/flood5.mp4  \n",
            "  inflating: videos/flood/flood7.webm  \n",
            "   creating: videos/agri/\n",
            "  inflating: videos/agri/agri0.webm  \n",
            "  inflating: videos/agri/agri5.webm  \n",
            "  inflating: videos/agri/agri1.webm  \n",
            "  inflating: videos/agri/agri6.webm  \n",
            "  inflating: videos/agri/agri4.webm  \n",
            "  inflating: videos/agri/agri3.webm  \n",
            "  inflating: videos/agri/agri7.webm  \n",
            "  inflating: videos/agri/agri8.webm  \n",
            "  inflating: videos/agri/agri9.webm  \n",
            "  inflating: videos/agri/agri2.webm  \n",
            "   creating: videos/drought/\n",
            "  inflating: videos/drought/265279983.mp4  \n",
            "  inflating: videos/drought/95078467.mp4  \n",
            "  inflating: videos/drought/192559861.mp4  \n",
            "  inflating: videos/drought/195652083.mp4  \n",
            "  inflating: videos/drought/218827191.mp4  \n",
            "  inflating: videos/drought/stock-footage-aerial-fly-over-view-of-thin-free-roaming-cattle-in-search-of-food-and-water-drought-climate.webm  \n",
            "  inflating: videos/drought/57718240.mp4  \n",
            "  inflating: videos/drought/50926240.mp4  \n",
            "  inflating: videos/drought/1088486297-preview.mp4  \n",
            "  inflating: videos/drought/1052779625-preview.mp4  \n",
            "  inflating: videos/drought/266547305.mp4  \n",
            "  inflating: videos/drought/stock-footage-climate-change-drought-water-crisis-aerial-fly-over-view-extremely-drought-stricken-landscape.webm  \n"
          ]
        }
      ]
    },
    {
      "cell_type": "markdown",
      "metadata": {
        "id": "c3Si3KIXUCGp"
      },
      "source": [
        "## gabor filter + size zone matrix and lukas_kanade"
      ]
    },
    {
      "cell_type": "markdown",
      "metadata": {
        "id": "2fd8GThjUCGr"
      },
      "source": [
        "### gabor filter + size zone matrix"
      ]
    },
    {
      "cell_type": "code",
      "execution_count": null,
      "metadata": {
        "id": "u_LceucbUCGt"
      },
      "outputs": [],
      "source": [
        "import numpy as np\n",
        "import pandas as pd\n",
        "import matplotlib.pyplot as plt\n",
        "%matplotlib inline\n",
        "import cv2\n",
        "import os\n",
        "import random\n",
        "import pickle\n",
        "from sklearn.model_selection import train_test_split\n",
        "from sklearn.svm import SVC\n",
        "import seaborn as sns\n",
        "import pandas as pd\n",
        "from skimage.filters import sobel\n",
        "from skimage.feature import greycomatrix, greycoprops\n",
        "from skimage.measure import shannon_entropy\n",
        "from sklearn.svm import SVC\n",
        "from sklearn.linear_model import LogisticRegression\n",
        "from sklearn.naive_bayes import GaussianNB\n",
        "from sklearn.metrics import accuracy_score\n",
        "from sklearn.tree import DecisionTreeClassifier\n",
        "import os"
      ]
    },
    {
      "cell_type": "code",
      "execution_count": null,
      "metadata": {
        "id": "2mq7oMOYUCGw"
      },
      "outputs": [],
      "source": [
        "from sklearn.metrics import accuracy_score, precision_score, recall_score, f1_score\n",
        "\n",
        "def evaluate_model(y_true, y_pred):\n",
        "    # Calculate accuracy, precision, recall, and F1 score\n",
        "    accuracy = accuracy_score(y_true, y_pred)\n",
        "    precision = precision_score(y_true, y_pred, average='micro')\n",
        "    recall = recall_score(y_true, y_pred, average='micro')\n",
        "    f1 = f1_score(y_true, y_pred, average='micro')\n",
        "\n",
        "    # Print the results\n",
        "    print(f\"Accuracy: {accuracy:.2f}\")\n",
        "    print(f\"Precision: {precision:.2f}\")\n",
        "    print(f\"Recall: {recall:.2f}\")\n",
        "    print(f\"F1 score: {f1:.2f}\")"
      ]
    },
    {
      "cell_type": "code",
      "execution_count": null,
      "metadata": {
        "id": "PpOGyaFOUCGy"
      },
      "outputs": [],
      "source": [
        "def showimage(myimage, figsize=[10,10]):\n",
        "    if (myimage.ndim>2):\n",
        "        myimage = myimage[:,:,::-1] \n",
        "    fig, ax = plt.subplots(figsize=figsize)\n",
        "    ax.imshow(myimage, cmap = 'gray', interpolation = 'bicubic')\n",
        "    plt.xticks([]), plt.yticks([]) \n",
        "    plt.show()"
      ]
    },
    {
      "cell_type": "code",
      "execution_count": null,
      "metadata": {
        "id": "9-l8CNQHUCGz"
      },
      "outputs": [],
      "source": [
        "def create_gaborfilter():\n",
        "    filters = []\n",
        "    num_filters = 16\n",
        "    ksize = 35 \n",
        "    sigma = 3.0 \n",
        "    lambd = 10.0\n",
        "    gamma = 0.5\n",
        "    psi = 0  \n",
        "    for theta in np.arange(0, np.pi, np.pi / num_filters): \n",
        "        kern = cv2.getGaborKernel((ksize, ksize), sigma, theta, lambd, gamma, psi, ktype=cv2.CV_64F)\n",
        "        kern /= 1.0 * kern.sum()\n",
        "        filters.append(kern)\n",
        "    return filters"
      ]
    },
    {
      "cell_type": "code",
      "execution_count": null,
      "metadata": {
        "id": "h8ZsPkRcUCG0"
      },
      "outputs": [],
      "source": [
        "def apply_filter(img, filters):\n",
        "    newimage = np.zeros_like(img)\n",
        "    depth = -1\n",
        "    for kern in filters:\n",
        "        image_filter = cv2.filter2D(img, depth, kern)\n",
        "        np.maximum(newimage, image_filter, newimage)\n",
        "    return newimage"
      ]
    },
    {
      "cell_type": "code",
      "execution_count": null,
      "metadata": {
        "id": "QReCsWRJUCG2"
      },
      "outputs": [],
      "source": [
        "def feature_extractor(dataset):\n",
        "    image_dataset = pd.DataFrame()\n",
        "    for image in range(dataset.shape[0]):  #iterate through each file \n",
        "        #print(image)\n",
        "        \n",
        "        df = pd.DataFrame()  #Temporary data frame to capture information for each loop.\n",
        "        #Reset dataframe to blank after each loop.\n",
        "        \n",
        "        img = dataset[image, :]\n",
        "        \n",
        "        GLCM = greycomatrix(img, [1], [0])       \n",
        "        GLCM_Energy = greycoprops(GLCM, 'energy')[0]\n",
        "        df['Energy'] = GLCM_Energy\n",
        "        GLCM_corr = greycoprops(GLCM, 'correlation')[0]\n",
        "        df['Corr'] = GLCM_corr       \n",
        "        GLCM_diss = greycoprops(GLCM, 'dissimilarity')[0]\n",
        "        df['Diss_sim'] = GLCM_diss       \n",
        "        GLCM_hom = greycoprops(GLCM, 'homogeneity')[0]\n",
        "        df['Homogen'] = GLCM_hom       \n",
        "        GLCM_contr = greycoprops(GLCM, 'contrast')[0]\n",
        "        df['Contrast'] = GLCM_contr\n",
        "\n",
        "\n",
        "        GLCM2 = greycomatrix(img, [3], [0])       \n",
        "        GLCM_Energy2 = greycoprops(GLCM2, 'energy')[0]\n",
        "        df['Energy2'] = GLCM_Energy2\n",
        "        GLCM_corr2 = greycoprops(GLCM2, 'correlation')[0]\n",
        "        df['Corr2'] = GLCM_corr2       \n",
        "        GLCM_diss2 = greycoprops(GLCM2, 'dissimilarity')[0]\n",
        "        df['Diss_sim2'] = GLCM_diss2       \n",
        "        GLCM_hom2 = greycoprops(GLCM2, 'homogeneity')[0]\n",
        "        df['Homogen2'] = GLCM_hom2       \n",
        "        GLCM_contr2 = greycoprops(GLCM2, 'contrast')[0]\n",
        "        df['Contrast2'] = GLCM_contr2\n",
        "\n",
        "        GLCM3 = greycomatrix(img, [5], [0])       \n",
        "        GLCM_Energy3 = greycoprops(GLCM3, 'energy')[0]\n",
        "        df['Energy3'] = GLCM_Energy3\n",
        "        GLCM_corr3 = greycoprops(GLCM3, 'correlation')[0]\n",
        "        df['Corr3'] = GLCM_corr3       \n",
        "        GLCM_diss3 = greycoprops(GLCM3, 'dissimilarity')[0]\n",
        "        df['Diss_sim3'] = GLCM_diss3       \n",
        "        GLCM_hom3 = greycoprops(GLCM3, 'homogeneity')[0]\n",
        "        df['Homogen3'] = GLCM_hom3       \n",
        "        GLCM_contr3 = greycoprops(GLCM3, 'contrast')[0]\n",
        "        df['Contrast3'] = GLCM_contr3\n",
        "\n",
        "        GLCM4 = greycomatrix(img, [0], [np.pi/4])       \n",
        "        GLCM_Energy4 = greycoprops(GLCM4, 'energy')[0]\n",
        "        df['Energy4'] = GLCM_Energy4\n",
        "        GLCM_corr4 = greycoprops(GLCM4, 'correlation')[0]\n",
        "        df['Corr4'] = GLCM_corr4       \n",
        "        GLCM_diss4 = greycoprops(GLCM4, 'dissimilarity')[0]\n",
        "        df['Diss_sim4'] = GLCM_diss4       \n",
        "        GLCM_hom4 = greycoprops(GLCM4, 'homogeneity')[0]\n",
        "        df['Homogen4'] = GLCM_hom4       \n",
        "        GLCM_contr4 = greycoprops(GLCM4, 'contrast')[0]\n",
        "        df['Contrast4'] = GLCM_contr4\n",
        "        \n",
        "        GLCM5 = greycomatrix(img, [0], [np.pi/2])       \n",
        "        GLCM_Energy5 = greycoprops(GLCM5, 'energy')[0]\n",
        "        df['Energy5'] = GLCM_Energy5\n",
        "        GLCM_corr5 = greycoprops(GLCM5, 'correlation')[0]\n",
        "        df['Corr5'] = GLCM_corr5       \n",
        "        GLCM_diss5 = greycoprops(GLCM5, 'dissimilarity')[0]\n",
        "        df['Diss_sim5'] = GLCM_diss5       \n",
        "        GLCM_hom5 = greycoprops(GLCM5, 'homogeneity')[0]\n",
        "        df['Homogen5'] = GLCM_hom5       \n",
        "        GLCM_contr5 = greycoprops(GLCM5, 'contrast')[0]\n",
        "        df['Contrast5'] = GLCM_contr5\n",
        "        \n",
        "        #Add more filters as needed\n",
        "        #entropy = shannon_entropy(img)\n",
        "        #df['Entropy'] = entropy\n",
        "\n",
        "        \n",
        "        #Append features from current image to the dataset\n",
        "        image_dataset = image_dataset.append(df)\n",
        "        \n",
        "    return image_dataset"
      ]
    },
    {
      "cell_type": "markdown",
      "metadata": {
        "id": "HiITuAj6UCG6"
      },
      "source": [
        "### Lukas kanade"
      ]
    },
    {
      "cell_type": "code",
      "execution_count": null,
      "metadata": {
        "id": "vyZ84WxgUCG7"
      },
      "outputs": [],
      "source": [
        "dir='videos'\n",
        "categories=['flood', 'agri', 'drought']\n",
        "videos = []\n",
        "labels = []\n",
        "for category in categories:\n",
        "    path=os.path.join(dir,category)\n",
        "    label=categories.index(category)\n",
        "    for img in os.listdir(path):\n",
        "        imgpath=os.path.join(path,img)\n",
        "        videos.append(imgpath)\n",
        "        labels.append(label)"
      ]
    },
    {
      "cell_type": "code",
      "execution_count": null,
      "metadata": {
        "id": "-E_HKXVcUCG7"
      },
      "outputs": [],
      "source": [
        "import cv2\n",
        "import numpy as np\n",
        "from sklearn.svm import SVC\n",
        "from sklearn.model_selection import train_test_split\n",
        "\n",
        "lk_params = dict( winSize  = (15,15),\n",
        "                  maxLevel = 2,\n",
        "                  criteria = (cv2.TERM_CRITERIA_EPS | cv2.TERM_CRITERIA_COUNT, 10, 0.03))\n",
        "\n",
        "data = []\n",
        "dynamic_features = []\n",
        "frame_labels = []\n",
        "\n",
        "for i in range(len(videos)):\n",
        "    feature_params = dict( maxCorners = 100,\n",
        "                        qualityLevel = 0.3,\n",
        "                        minDistance = 7,\n",
        "                        blockSize = 7 )\n",
        "\n",
        "    cap = cv2.VideoCapture(videos[i])\n",
        "\n",
        "    ret, old_frame = cap.read()\n",
        "\n",
        "    # filters\n",
        "\n",
        "    old_gray = cv2.cvtColor(old_frame, cv2.COLOR_BGR2GRAY)\n",
        "\n",
        "    old_frame=cv2.resize(old_gray,(50,50))\n",
        "    gfilters = create_gaborfilter()\n",
        "    old_frame = apply_filter(old_frame, gfilters)\n",
        "    \n",
        "    p0 = cv2.goodFeaturesToTrack(old_gray, mask = None, **feature_params)\n",
        "    \n",
        "    while True:\n",
        "        ret, frame = cap.read()\n",
        "        if not ret:\n",
        "            break\n",
        "        \n",
        "        # filters\n",
        "\n",
        "        frame_gray = cv2.cvtColor(frame, cv2.COLOR_BGR2GRAY)\n",
        "\n",
        "        frame=cv2.resize(frame_gray,(50,50))\n",
        "        gfilters = create_gaborfilter()\n",
        "        frame = apply_filter(frame, gfilters)\n",
        "        data.append(frame)\n",
        "\n",
        "\n",
        "        p1, st, err = cv2.calcOpticalFlowPyrLK(old_frame, frame, p0, None, **lk_params)\n",
        "\n",
        "        flow_magnitude = np.sqrt(p1[:,:,0]**2 + p1[:,:,1]**2)\n",
        "        dynamic_features.append(np.mean(flow_magnitude))\n",
        "        frame_labels.append(labels[i])\n",
        "        old_gray = frame_gray.copy()\n",
        "\n",
        "    cap.release()"
      ]
    },
    {
      "cell_type": "code",
      "execution_count": null,
      "metadata": {
        "id": "5Tkk4DSAUCG8"
      },
      "outputs": [],
      "source": [
        "data = np.array(data)"
      ]
    },
    {
      "cell_type": "code",
      "execution_count": null,
      "metadata": {
        "id": "hk9QLlM4UCG9"
      },
      "outputs": [],
      "source": [
        "data = feature_extractor(data)"
      ]
    },
    {
      "cell_type": "code",
      "source": [
        "data = pd.DataFrame(data)"
      ],
      "metadata": {
        "id": "6r7nXt5oL7OB"
      },
      "execution_count": null,
      "outputs": []
    },
    {
      "cell_type": "code",
      "source": [
        "dynamic_features = pd.DataFrame(dynamic_features)"
      ],
      "metadata": {
        "id": "a8ZkN4mbMA4O"
      },
      "execution_count": null,
      "outputs": []
    },
    {
      "cell_type": "code",
      "source": [
        "dynamic_features, data"
      ],
      "metadata": {
        "colab": {
          "base_uri": "https://localhost:8080/"
        },
        "id": "YuITQhZDMMBW",
        "outputId": "ece6db38-2f2a-4db0-c36e-2bb16147d9cb"
      },
      "execution_count": null,
      "outputs": [
        {
          "output_type": "execute_result",
          "data": {
            "text/plain": [
              "(                0\n",
              " 0      244.864029\n",
              " 1      244.864029\n",
              " 2      244.864029\n",
              " 3      244.864029\n",
              " 4      244.864029\n",
              " ...           ...\n",
              " 18814  366.095398\n",
              " 18815  366.095398\n",
              " 18816  366.095398\n",
              " 18817  366.095398\n",
              " 18818  366.095398\n",
              " \n",
              " [18819 rows x 1 columns],\n",
              "       Energy      Corr  Diss_sim   Homogen   Contrast   Energy2     Corr2  \\\n",
              " 0   0.087320  0.996886  2.544490  0.456452  18.288980  0.082265  0.978565   \n",
              " 0   0.087198  0.996846  2.565714  0.455372  18.468571  0.082276  0.978303   \n",
              " 0   0.087499  0.996771  2.605714  0.451756  18.844898  0.082279  0.977764   \n",
              " 0   0.087391  0.996766  2.596735  0.455397  18.875102  0.082235  0.977764   \n",
              " 0   0.087602  0.996713  2.608571  0.458408  19.110612  0.082382  0.977537   \n",
              " ..       ...       ...       ...       ...        ...       ...       ...   \n",
              " 0   0.083627  0.995313  2.014286  0.489966  11.023265  0.072968  0.969450   \n",
              " 0   0.083593  0.995883  1.842449  0.512455   9.756735  0.072645  0.971897   \n",
              " 0   0.082413  0.994918  2.021633  0.497078  11.810204  0.072047  0.968172   \n",
              " 0   0.080837  0.993854  2.190204  0.482406  14.062857  0.070920  0.962646   \n",
              " 0   0.083732  0.996000  1.800408  0.522245   9.328571  0.072308  0.973178   \n",
              " \n",
              "     Diss_sim2  Homogen2   Contrast2  ...   Energy4  Corr4  Diss_sim4  \\\n",
              " 0    6.833191  0.274090  125.464681  ...  0.114883    1.0        0.0   \n",
              " 0    6.885957  0.277345  126.640851  ...  0.114939    1.0        0.0   \n",
              " 0    7.000851  0.271788  129.400000  ...  0.114937    1.0        0.0   \n",
              " 0    6.971489  0.277667  129.420000  ...  0.115121    1.0        0.0   \n",
              " 0    6.986809  0.276864  130.228511  ...  0.115071    1.0        0.0   \n",
              " ..        ...       ...         ...  ...       ...    ...        ...   \n",
              " 0    5.091489  0.296604   70.791064  ...  0.132692    1.0        0.0   \n",
              " 0    4.754468  0.318486   65.402979  ...  0.132002    1.0        0.0   \n",
              " 0    5.101277  0.309396   72.778723  ...  0.130780    1.0        0.0   \n",
              " 0    5.566809  0.291466   83.939574  ...  0.128288    1.0        0.0   \n",
              " 0    4.603830  0.323453   61.460851  ...  0.132566    1.0        0.0   \n",
              " \n",
              "     Homogen4  Contrast4   Energy5  Corr5  Diss_sim5  Homogen5  Contrast5  \n",
              " 0        1.0        0.0  0.114883    1.0        0.0       1.0        0.0  \n",
              " 0        1.0        0.0  0.114939    1.0        0.0       1.0        0.0  \n",
              " 0        1.0        0.0  0.114937    1.0        0.0       1.0        0.0  \n",
              " 0        1.0        0.0  0.115121    1.0        0.0       1.0        0.0  \n",
              " 0        1.0        0.0  0.115071    1.0        0.0       1.0        0.0  \n",
              " ..       ...        ...       ...    ...        ...       ...        ...  \n",
              " 0        1.0        0.0  0.132692    1.0        0.0       1.0        0.0  \n",
              " 0        1.0        0.0  0.132002    1.0        0.0       1.0        0.0  \n",
              " 0        1.0        0.0  0.130780    1.0        0.0       1.0        0.0  \n",
              " 0        1.0        0.0  0.128288    1.0        0.0       1.0        0.0  \n",
              " 0        1.0        0.0  0.132566    1.0        0.0       1.0        0.0  \n",
              " \n",
              " [18819 rows x 25 columns])"
            ]
          },
          "metadata": {},
          "execution_count": 19
        }
      ]
    },
    {
      "cell_type": "code",
      "execution_count": null,
      "metadata": {
        "id": "dQdDLXzNUCG_"
      },
      "outputs": [],
      "source": [
        "df = pd.concat([dynamic_features.reset_index(drop=True), data.reset_index(drop=True)], axis=1)"
      ]
    },
    {
      "cell_type": "code",
      "source": [
        "df"
      ],
      "metadata": {
        "colab": {
          "base_uri": "https://localhost:8080/",
          "height": 488
        },
        "id": "Yn7tUWlQNRWb",
        "outputId": "c19c9e5d-f68f-4d55-fb7b-5fcc2c1d695c"
      },
      "execution_count": null,
      "outputs": [
        {
          "output_type": "execute_result",
          "data": {
            "text/plain": [
              "                0    Energy      Corr  Diss_sim   Homogen   Contrast  \\\n",
              "0      244.864029  0.087320  0.996886  2.544490  0.456452  18.288980   \n",
              "1      244.864029  0.087198  0.996846  2.565714  0.455372  18.468571   \n",
              "2      244.864029  0.087499  0.996771  2.605714  0.451756  18.844898   \n",
              "3      244.864029  0.087391  0.996766  2.596735  0.455397  18.875102   \n",
              "4      244.864029  0.087602  0.996713  2.608571  0.458408  19.110612   \n",
              "...           ...       ...       ...       ...       ...        ...   \n",
              "18814  366.095398  0.083627  0.995313  2.014286  0.489966  11.023265   \n",
              "18815  366.095398  0.083593  0.995883  1.842449  0.512455   9.756735   \n",
              "18816  366.095398  0.082413  0.994918  2.021633  0.497078  11.810204   \n",
              "18817  366.095398  0.080837  0.993854  2.190204  0.482406  14.062857   \n",
              "18818  366.095398  0.083732  0.996000  1.800408  0.522245   9.328571   \n",
              "\n",
              "        Energy2     Corr2  Diss_sim2  Homogen2  ...   Energy4  Corr4  \\\n",
              "0      0.082265  0.978565   6.833191  0.274090  ...  0.114883    1.0   \n",
              "1      0.082276  0.978303   6.885957  0.277345  ...  0.114939    1.0   \n",
              "2      0.082279  0.977764   7.000851  0.271788  ...  0.114937    1.0   \n",
              "3      0.082235  0.977764   6.971489  0.277667  ...  0.115121    1.0   \n",
              "4      0.082382  0.977537   6.986809  0.276864  ...  0.115071    1.0   \n",
              "...         ...       ...        ...       ...  ...       ...    ...   \n",
              "18814  0.072968  0.969450   5.091489  0.296604  ...  0.132692    1.0   \n",
              "18815  0.072645  0.971897   4.754468  0.318486  ...  0.132002    1.0   \n",
              "18816  0.072047  0.968172   5.101277  0.309396  ...  0.130780    1.0   \n",
              "18817  0.070920  0.962646   5.566809  0.291466  ...  0.128288    1.0   \n",
              "18818  0.072308  0.973178   4.603830  0.323453  ...  0.132566    1.0   \n",
              "\n",
              "       Diss_sim4  Homogen4  Contrast4   Energy5  Corr5  Diss_sim5  Homogen5  \\\n",
              "0            0.0       1.0        0.0  0.114883    1.0        0.0       1.0   \n",
              "1            0.0       1.0        0.0  0.114939    1.0        0.0       1.0   \n",
              "2            0.0       1.0        0.0  0.114937    1.0        0.0       1.0   \n",
              "3            0.0       1.0        0.0  0.115121    1.0        0.0       1.0   \n",
              "4            0.0       1.0        0.0  0.115071    1.0        0.0       1.0   \n",
              "...          ...       ...        ...       ...    ...        ...       ...   \n",
              "18814        0.0       1.0        0.0  0.132692    1.0        0.0       1.0   \n",
              "18815        0.0       1.0        0.0  0.132002    1.0        0.0       1.0   \n",
              "18816        0.0       1.0        0.0  0.130780    1.0        0.0       1.0   \n",
              "18817        0.0       1.0        0.0  0.128288    1.0        0.0       1.0   \n",
              "18818        0.0       1.0        0.0  0.132566    1.0        0.0       1.0   \n",
              "\n",
              "       Contrast5  \n",
              "0            0.0  \n",
              "1            0.0  \n",
              "2            0.0  \n",
              "3            0.0  \n",
              "4            0.0  \n",
              "...          ...  \n",
              "18814        0.0  \n",
              "18815        0.0  \n",
              "18816        0.0  \n",
              "18817        0.0  \n",
              "18818        0.0  \n",
              "\n",
              "[18819 rows x 26 columns]"
            ],
            "text/html": [
              "\n",
              "  <div id=\"df-6a73bf65-2844-419b-a464-cfcdab05a3cb\">\n",
              "    <div class=\"colab-df-container\">\n",
              "      <div>\n",
              "<style scoped>\n",
              "    .dataframe tbody tr th:only-of-type {\n",
              "        vertical-align: middle;\n",
              "    }\n",
              "\n",
              "    .dataframe tbody tr th {\n",
              "        vertical-align: top;\n",
              "    }\n",
              "\n",
              "    .dataframe thead th {\n",
              "        text-align: right;\n",
              "    }\n",
              "</style>\n",
              "<table border=\"1\" class=\"dataframe\">\n",
              "  <thead>\n",
              "    <tr style=\"text-align: right;\">\n",
              "      <th></th>\n",
              "      <th>0</th>\n",
              "      <th>Energy</th>\n",
              "      <th>Corr</th>\n",
              "      <th>Diss_sim</th>\n",
              "      <th>Homogen</th>\n",
              "      <th>Contrast</th>\n",
              "      <th>Energy2</th>\n",
              "      <th>Corr2</th>\n",
              "      <th>Diss_sim2</th>\n",
              "      <th>Homogen2</th>\n",
              "      <th>...</th>\n",
              "      <th>Energy4</th>\n",
              "      <th>Corr4</th>\n",
              "      <th>Diss_sim4</th>\n",
              "      <th>Homogen4</th>\n",
              "      <th>Contrast4</th>\n",
              "      <th>Energy5</th>\n",
              "      <th>Corr5</th>\n",
              "      <th>Diss_sim5</th>\n",
              "      <th>Homogen5</th>\n",
              "      <th>Contrast5</th>\n",
              "    </tr>\n",
              "  </thead>\n",
              "  <tbody>\n",
              "    <tr>\n",
              "      <th>0</th>\n",
              "      <td>244.864029</td>\n",
              "      <td>0.087320</td>\n",
              "      <td>0.996886</td>\n",
              "      <td>2.544490</td>\n",
              "      <td>0.456452</td>\n",
              "      <td>18.288980</td>\n",
              "      <td>0.082265</td>\n",
              "      <td>0.978565</td>\n",
              "      <td>6.833191</td>\n",
              "      <td>0.274090</td>\n",
              "      <td>...</td>\n",
              "      <td>0.114883</td>\n",
              "      <td>1.0</td>\n",
              "      <td>0.0</td>\n",
              "      <td>1.0</td>\n",
              "      <td>0.0</td>\n",
              "      <td>0.114883</td>\n",
              "      <td>1.0</td>\n",
              "      <td>0.0</td>\n",
              "      <td>1.0</td>\n",
              "      <td>0.0</td>\n",
              "    </tr>\n",
              "    <tr>\n",
              "      <th>1</th>\n",
              "      <td>244.864029</td>\n",
              "      <td>0.087198</td>\n",
              "      <td>0.996846</td>\n",
              "      <td>2.565714</td>\n",
              "      <td>0.455372</td>\n",
              "      <td>18.468571</td>\n",
              "      <td>0.082276</td>\n",
              "      <td>0.978303</td>\n",
              "      <td>6.885957</td>\n",
              "      <td>0.277345</td>\n",
              "      <td>...</td>\n",
              "      <td>0.114939</td>\n",
              "      <td>1.0</td>\n",
              "      <td>0.0</td>\n",
              "      <td>1.0</td>\n",
              "      <td>0.0</td>\n",
              "      <td>0.114939</td>\n",
              "      <td>1.0</td>\n",
              "      <td>0.0</td>\n",
              "      <td>1.0</td>\n",
              "      <td>0.0</td>\n",
              "    </tr>\n",
              "    <tr>\n",
              "      <th>2</th>\n",
              "      <td>244.864029</td>\n",
              "      <td>0.087499</td>\n",
              "      <td>0.996771</td>\n",
              "      <td>2.605714</td>\n",
              "      <td>0.451756</td>\n",
              "      <td>18.844898</td>\n",
              "      <td>0.082279</td>\n",
              "      <td>0.977764</td>\n",
              "      <td>7.000851</td>\n",
              "      <td>0.271788</td>\n",
              "      <td>...</td>\n",
              "      <td>0.114937</td>\n",
              "      <td>1.0</td>\n",
              "      <td>0.0</td>\n",
              "      <td>1.0</td>\n",
              "      <td>0.0</td>\n",
              "      <td>0.114937</td>\n",
              "      <td>1.0</td>\n",
              "      <td>0.0</td>\n",
              "      <td>1.0</td>\n",
              "      <td>0.0</td>\n",
              "    </tr>\n",
              "    <tr>\n",
              "      <th>3</th>\n",
              "      <td>244.864029</td>\n",
              "      <td>0.087391</td>\n",
              "      <td>0.996766</td>\n",
              "      <td>2.596735</td>\n",
              "      <td>0.455397</td>\n",
              "      <td>18.875102</td>\n",
              "      <td>0.082235</td>\n",
              "      <td>0.977764</td>\n",
              "      <td>6.971489</td>\n",
              "      <td>0.277667</td>\n",
              "      <td>...</td>\n",
              "      <td>0.115121</td>\n",
              "      <td>1.0</td>\n",
              "      <td>0.0</td>\n",
              "      <td>1.0</td>\n",
              "      <td>0.0</td>\n",
              "      <td>0.115121</td>\n",
              "      <td>1.0</td>\n",
              "      <td>0.0</td>\n",
              "      <td>1.0</td>\n",
              "      <td>0.0</td>\n",
              "    </tr>\n",
              "    <tr>\n",
              "      <th>4</th>\n",
              "      <td>244.864029</td>\n",
              "      <td>0.087602</td>\n",
              "      <td>0.996713</td>\n",
              "      <td>2.608571</td>\n",
              "      <td>0.458408</td>\n",
              "      <td>19.110612</td>\n",
              "      <td>0.082382</td>\n",
              "      <td>0.977537</td>\n",
              "      <td>6.986809</td>\n",
              "      <td>0.276864</td>\n",
              "      <td>...</td>\n",
              "      <td>0.115071</td>\n",
              "      <td>1.0</td>\n",
              "      <td>0.0</td>\n",
              "      <td>1.0</td>\n",
              "      <td>0.0</td>\n",
              "      <td>0.115071</td>\n",
              "      <td>1.0</td>\n",
              "      <td>0.0</td>\n",
              "      <td>1.0</td>\n",
              "      <td>0.0</td>\n",
              "    </tr>\n",
              "    <tr>\n",
              "      <th>...</th>\n",
              "      <td>...</td>\n",
              "      <td>...</td>\n",
              "      <td>...</td>\n",
              "      <td>...</td>\n",
              "      <td>...</td>\n",
              "      <td>...</td>\n",
              "      <td>...</td>\n",
              "      <td>...</td>\n",
              "      <td>...</td>\n",
              "      <td>...</td>\n",
              "      <td>...</td>\n",
              "      <td>...</td>\n",
              "      <td>...</td>\n",
              "      <td>...</td>\n",
              "      <td>...</td>\n",
              "      <td>...</td>\n",
              "      <td>...</td>\n",
              "      <td>...</td>\n",
              "      <td>...</td>\n",
              "      <td>...</td>\n",
              "      <td>...</td>\n",
              "    </tr>\n",
              "    <tr>\n",
              "      <th>18814</th>\n",
              "      <td>366.095398</td>\n",
              "      <td>0.083627</td>\n",
              "      <td>0.995313</td>\n",
              "      <td>2.014286</td>\n",
              "      <td>0.489966</td>\n",
              "      <td>11.023265</td>\n",
              "      <td>0.072968</td>\n",
              "      <td>0.969450</td>\n",
              "      <td>5.091489</td>\n",
              "      <td>0.296604</td>\n",
              "      <td>...</td>\n",
              "      <td>0.132692</td>\n",
              "      <td>1.0</td>\n",
              "      <td>0.0</td>\n",
              "      <td>1.0</td>\n",
              "      <td>0.0</td>\n",
              "      <td>0.132692</td>\n",
              "      <td>1.0</td>\n",
              "      <td>0.0</td>\n",
              "      <td>1.0</td>\n",
              "      <td>0.0</td>\n",
              "    </tr>\n",
              "    <tr>\n",
              "      <th>18815</th>\n",
              "      <td>366.095398</td>\n",
              "      <td>0.083593</td>\n",
              "      <td>0.995883</td>\n",
              "      <td>1.842449</td>\n",
              "      <td>0.512455</td>\n",
              "      <td>9.756735</td>\n",
              "      <td>0.072645</td>\n",
              "      <td>0.971897</td>\n",
              "      <td>4.754468</td>\n",
              "      <td>0.318486</td>\n",
              "      <td>...</td>\n",
              "      <td>0.132002</td>\n",
              "      <td>1.0</td>\n",
              "      <td>0.0</td>\n",
              "      <td>1.0</td>\n",
              "      <td>0.0</td>\n",
              "      <td>0.132002</td>\n",
              "      <td>1.0</td>\n",
              "      <td>0.0</td>\n",
              "      <td>1.0</td>\n",
              "      <td>0.0</td>\n",
              "    </tr>\n",
              "    <tr>\n",
              "      <th>18816</th>\n",
              "      <td>366.095398</td>\n",
              "      <td>0.082413</td>\n",
              "      <td>0.994918</td>\n",
              "      <td>2.021633</td>\n",
              "      <td>0.497078</td>\n",
              "      <td>11.810204</td>\n",
              "      <td>0.072047</td>\n",
              "      <td>0.968172</td>\n",
              "      <td>5.101277</td>\n",
              "      <td>0.309396</td>\n",
              "      <td>...</td>\n",
              "      <td>0.130780</td>\n",
              "      <td>1.0</td>\n",
              "      <td>0.0</td>\n",
              "      <td>1.0</td>\n",
              "      <td>0.0</td>\n",
              "      <td>0.130780</td>\n",
              "      <td>1.0</td>\n",
              "      <td>0.0</td>\n",
              "      <td>1.0</td>\n",
              "      <td>0.0</td>\n",
              "    </tr>\n",
              "    <tr>\n",
              "      <th>18817</th>\n",
              "      <td>366.095398</td>\n",
              "      <td>0.080837</td>\n",
              "      <td>0.993854</td>\n",
              "      <td>2.190204</td>\n",
              "      <td>0.482406</td>\n",
              "      <td>14.062857</td>\n",
              "      <td>0.070920</td>\n",
              "      <td>0.962646</td>\n",
              "      <td>5.566809</td>\n",
              "      <td>0.291466</td>\n",
              "      <td>...</td>\n",
              "      <td>0.128288</td>\n",
              "      <td>1.0</td>\n",
              "      <td>0.0</td>\n",
              "      <td>1.0</td>\n",
              "      <td>0.0</td>\n",
              "      <td>0.128288</td>\n",
              "      <td>1.0</td>\n",
              "      <td>0.0</td>\n",
              "      <td>1.0</td>\n",
              "      <td>0.0</td>\n",
              "    </tr>\n",
              "    <tr>\n",
              "      <th>18818</th>\n",
              "      <td>366.095398</td>\n",
              "      <td>0.083732</td>\n",
              "      <td>0.996000</td>\n",
              "      <td>1.800408</td>\n",
              "      <td>0.522245</td>\n",
              "      <td>9.328571</td>\n",
              "      <td>0.072308</td>\n",
              "      <td>0.973178</td>\n",
              "      <td>4.603830</td>\n",
              "      <td>0.323453</td>\n",
              "      <td>...</td>\n",
              "      <td>0.132566</td>\n",
              "      <td>1.0</td>\n",
              "      <td>0.0</td>\n",
              "      <td>1.0</td>\n",
              "      <td>0.0</td>\n",
              "      <td>0.132566</td>\n",
              "      <td>1.0</td>\n",
              "      <td>0.0</td>\n",
              "      <td>1.0</td>\n",
              "      <td>0.0</td>\n",
              "    </tr>\n",
              "  </tbody>\n",
              "</table>\n",
              "<p>18819 rows × 26 columns</p>\n",
              "</div>\n",
              "      <button class=\"colab-df-convert\" onclick=\"convertToInteractive('df-6a73bf65-2844-419b-a464-cfcdab05a3cb')\"\n",
              "              title=\"Convert this dataframe to an interactive table.\"\n",
              "              style=\"display:none;\">\n",
              "        \n",
              "  <svg xmlns=\"http://www.w3.org/2000/svg\" height=\"24px\"viewBox=\"0 0 24 24\"\n",
              "       width=\"24px\">\n",
              "    <path d=\"M0 0h24v24H0V0z\" fill=\"none\"/>\n",
              "    <path d=\"M18.56 5.44l.94 2.06.94-2.06 2.06-.94-2.06-.94-.94-2.06-.94 2.06-2.06.94zm-11 1L8.5 8.5l.94-2.06 2.06-.94-2.06-.94L8.5 2.5l-.94 2.06-2.06.94zm10 10l.94 2.06.94-2.06 2.06-.94-2.06-.94-.94-2.06-.94 2.06-2.06.94z\"/><path d=\"M17.41 7.96l-1.37-1.37c-.4-.4-.92-.59-1.43-.59-.52 0-1.04.2-1.43.59L10.3 9.45l-7.72 7.72c-.78.78-.78 2.05 0 2.83L4 21.41c.39.39.9.59 1.41.59.51 0 1.02-.2 1.41-.59l7.78-7.78 2.81-2.81c.8-.78.8-2.07 0-2.86zM5.41 20L4 18.59l7.72-7.72 1.47 1.35L5.41 20z\"/>\n",
              "  </svg>\n",
              "      </button>\n",
              "      \n",
              "  <style>\n",
              "    .colab-df-container {\n",
              "      display:flex;\n",
              "      flex-wrap:wrap;\n",
              "      gap: 12px;\n",
              "    }\n",
              "\n",
              "    .colab-df-convert {\n",
              "      background-color: #E8F0FE;\n",
              "      border: none;\n",
              "      border-radius: 50%;\n",
              "      cursor: pointer;\n",
              "      display: none;\n",
              "      fill: #1967D2;\n",
              "      height: 32px;\n",
              "      padding: 0 0 0 0;\n",
              "      width: 32px;\n",
              "    }\n",
              "\n",
              "    .colab-df-convert:hover {\n",
              "      background-color: #E2EBFA;\n",
              "      box-shadow: 0px 1px 2px rgba(60, 64, 67, 0.3), 0px 1px 3px 1px rgba(60, 64, 67, 0.15);\n",
              "      fill: #174EA6;\n",
              "    }\n",
              "\n",
              "    [theme=dark] .colab-df-convert {\n",
              "      background-color: #3B4455;\n",
              "      fill: #D2E3FC;\n",
              "    }\n",
              "\n",
              "    [theme=dark] .colab-df-convert:hover {\n",
              "      background-color: #434B5C;\n",
              "      box-shadow: 0px 1px 3px 1px rgba(0, 0, 0, 0.15);\n",
              "      filter: drop-shadow(0px 1px 2px rgba(0, 0, 0, 0.3));\n",
              "      fill: #FFFFFF;\n",
              "    }\n",
              "  </style>\n",
              "\n",
              "      <script>\n",
              "        const buttonEl =\n",
              "          document.querySelector('#df-6a73bf65-2844-419b-a464-cfcdab05a3cb button.colab-df-convert');\n",
              "        buttonEl.style.display =\n",
              "          google.colab.kernel.accessAllowed ? 'block' : 'none';\n",
              "\n",
              "        async function convertToInteractive(key) {\n",
              "          const element = document.querySelector('#df-6a73bf65-2844-419b-a464-cfcdab05a3cb');\n",
              "          const dataTable =\n",
              "            await google.colab.kernel.invokeFunction('convertToInteractive',\n",
              "                                                     [key], {});\n",
              "          if (!dataTable) return;\n",
              "\n",
              "          const docLinkHtml = 'Like what you see? Visit the ' +\n",
              "            '<a target=\"_blank\" href=https://colab.research.google.com/notebooks/data_table.ipynb>data table notebook</a>'\n",
              "            + ' to learn more about interactive tables.';\n",
              "          element.innerHTML = '';\n",
              "          dataTable['output_type'] = 'display_data';\n",
              "          await google.colab.output.renderOutput(dataTable, element);\n",
              "          const docLink = document.createElement('div');\n",
              "          docLink.innerHTML = docLinkHtml;\n",
              "          element.appendChild(docLink);\n",
              "        }\n",
              "      </script>\n",
              "    </div>\n",
              "  </div>\n",
              "  "
            ]
          },
          "metadata": {},
          "execution_count": 21
        }
      ]
    },
    {
      "cell_type": "code",
      "execution_count": null,
      "metadata": {
        "id": "QUYNfkttUCHA"
      },
      "outputs": [],
      "source": [
        "X_train,X_test,Y_train,Y_test=train_test_split(df, frame_labels, test_size=0.25,random_state=42)"
      ]
    },
    {
      "cell_type": "code",
      "source": [
        "def evaluate"
      ],
      "metadata": {
        "id": "ZokBWTBFVuSm"
      },
      "execution_count": null,
      "outputs": []
    },
    {
      "cell_type": "code",
      "execution_count": null,
      "metadata": {
        "id": "SwtBygz5UCHA",
        "outputId": "451c96c4-73cd-4d70-e3bc-2af48cad73f7",
        "colab": {
          "base_uri": "https://localhost:8080/"
        }
      },
      "outputs": [
        {
          "output_type": "stream",
          "name": "stderr",
          "text": [
            "/usr/local/lib/python3.8/dist-packages/sklearn/utils/validation.py:1688: FutureWarning: Feature names only support names that are all strings. Got feature names with dtypes: ['int', 'str']. An error will be raised in 1.2.\n",
            "  warnings.warn(\n",
            "/usr/local/lib/python3.8/dist-packages/sklearn/utils/validation.py:1688: FutureWarning: Feature names only support names that are all strings. Got feature names with dtypes: ['int', 'str']. An error will be raised in 1.2.\n",
            "  warnings.warn(\n",
            "/usr/local/lib/python3.8/dist-packages/sklearn/utils/validation.py:1688: FutureWarning: Feature names only support names that are all strings. Got feature names with dtypes: ['int', 'str']. An error will be raised in 1.2.\n",
            "  warnings.warn(\n",
            "/usr/local/lib/python3.8/dist-packages/sklearn/utils/validation.py:1688: FutureWarning: Feature names only support names that are all strings. Got feature names with dtypes: ['int', 'str']. An error will be raised in 1.2.\n",
            "  warnings.warn(\n",
            "/usr/local/lib/python3.8/dist-packages/sklearn/utils/validation.py:1688: FutureWarning: Feature names only support names that are all strings. Got feature names with dtypes: ['int', 'str']. An error will be raised in 1.2.\n",
            "  warnings.warn(\n"
          ]
        },
        {
          "output_type": "stream",
          "name": "stdout",
          "text": [
            "===SVC===\n",
            "Accuracy: 0.70\n",
            "Precision: 0.70\n",
            "Recall: 0.70\n",
            "F1 score: 0.70\n",
            "===Gaussian===\n",
            "Accuracy: 0.60\n",
            "Precision: 0.60\n",
            "Recall: 0.60\n",
            "F1 score: 0.60\n",
            "===Logistic===\n",
            "Accuracy: 0.69\n",
            "Precision: 0.69\n",
            "Recall: 0.69\n",
            "F1 score: 0.69\n"
          ]
        },
        {
          "output_type": "stream",
          "name": "stderr",
          "text": [
            "/usr/local/lib/python3.8/dist-packages/sklearn/linear_model/_logistic.py:814: ConvergenceWarning: lbfgs failed to converge (status=1):\n",
            "STOP: TOTAL NO. of ITERATIONS REACHED LIMIT.\n",
            "\n",
            "Increase the number of iterations (max_iter) or scale the data as shown in:\n",
            "    https://scikit-learn.org/stable/modules/preprocessing.html\n",
            "Please also refer to the documentation for alternative solver options:\n",
            "    https://scikit-learn.org/stable/modules/linear_model.html#logistic-regression\n",
            "  n_iter_i = _check_optimize_result(\n",
            "/usr/local/lib/python3.8/dist-packages/sklearn/utils/validation.py:1688: FutureWarning: Feature names only support names that are all strings. Got feature names with dtypes: ['int', 'str']. An error will be raised in 1.2.\n",
            "  warnings.warn(\n"
          ]
        }
      ],
      "source": [
        "clf_svc = SVC()\n",
        "clf_svc.fit(X_train, Y_train)\n",
        "y_pred_svc = clf_svc.predict(X_test)\n",
        "accuracy_svc = accuracy_score(Y_test, y_pred_svc)\n",
        "\n",
        "\n",
        "clf_gaussian = GaussianNB()\n",
        "clf_gaussian.fit(X_train, Y_train)\n",
        "y_pred_gaussian = clf_gaussian.predict(X_test)\n",
        "accuracy_gaussian = accuracy_score(Y_test, y_pred_gaussian)\n",
        "\n",
        "clf_logistic = LogisticRegression()\n",
        "clf_logistic.fit(X_train, Y_train)\n",
        "y_pred_logistic = clf_logistic.predict(X_test)\n",
        "\n",
        "print(\"===SVC===\")\n",
        "evaluate_model(Y_test, y_pred_svc)\n",
        "print(\"===Gaussian===\")\n",
        "evaluate_model(Y_test, y_pred_gaussian)\n",
        "print(\"===Logistic===\")\n",
        "evaluate_model(Y_test, y_pred_logistic)"
      ]
    },
    {
      "cell_type": "markdown",
      "metadata": {
        "id": "aJF6tJwnUCHB"
      },
      "source": [
        "## local binary + Size Zone and lukas kanade"
      ]
    },
    {
      "cell_type": "markdown",
      "metadata": {
        "id": "2amkepQiUCHB"
      },
      "source": [
        "### local binary + Size Zone"
      ]
    },
    {
      "cell_type": "code",
      "execution_count": null,
      "metadata": {
        "id": "JIX6jqJBUCHC"
      },
      "outputs": [],
      "source": [
        "def get_pixel(img, center, x, y):\n",
        "     \n",
        "    new_value = 0\n",
        "     \n",
        "    try:\n",
        "        if img[x][y] >= center:\n",
        "            new_value = 1\n",
        "             \n",
        "    except:\n",
        "        pass\n",
        "     \n",
        "    return new_value"
      ]
    },
    {
      "cell_type": "code",
      "execution_count": null,
      "metadata": {
        "id": "rES4s-zIUCHC"
      },
      "outputs": [],
      "source": [
        "def lbp_calculated_pixel(img, x, y):\n",
        "    center = img[x][y]\n",
        "    val_ar = []\n",
        "    val_ar.append(get_pixel(img, center, x-1, y-1))\n",
        "    val_ar.append(get_pixel(img, center, x-1, y))\n",
        "    val_ar.append(get_pixel(img, center, x-1, y + 1))\n",
        "    val_ar.append(get_pixel(img, center, x, y + 1))\n",
        "    val_ar.append(get_pixel(img, center, x + 1, y + 1))\n",
        "    val_ar.append(get_pixel(img, center, x + 1, y))\n",
        "    val_ar.append(get_pixel(img, center, x + 1, y-1))\n",
        "    val_ar.append(get_pixel(img, center, x, y-1))\n",
        "    power_val = [1, 2, 4, 8, 16, 32, 64, 128]\n",
        "  \n",
        "    val = 0\n",
        "     \n",
        "    for i in range(len(val_ar)):\n",
        "        val += val_ar[i] * power_val[i]\n",
        "         \n",
        "    return val"
      ]
    },
    {
      "cell_type": "code",
      "source": [
        "def feature_extractor(dataset):\n",
        "    image_dataset = pd.DataFrame()\n",
        "    for image in range(dataset.shape[0]):  #iterate through each file \n",
        "        #print(image)\n",
        "        \n",
        "        df = pd.DataFrame()  #Temporary data frame to capture information for each loop.\n",
        "        #Reset dataframe to blank after each loop.\n",
        "        \n",
        "        img = dataset[image, :]\n",
        "    ################################################################\n",
        "    #START ADDING DATA TO THE DATAFRAME\n",
        "  \n",
        "                \n",
        "         #Full image\n",
        "        #GLCM = greycomatrix(img, [1], [0, np.pi/4, np.pi/2, 3*np.pi/4])\n",
        "        GLCM = greycomatrix(img, [1], [0])       \n",
        "        GLCM_Energy = greycoprops(GLCM, 'energy')[0]\n",
        "        df['Energy'] = GLCM_Energy\n",
        "        GLCM_corr = greycoprops(GLCM, 'correlation')[0]\n",
        "        df['Corr'] = GLCM_corr       \n",
        "        GLCM_diss = greycoprops(GLCM, 'dissimilarity')[0]\n",
        "        df['Diss_sim'] = GLCM_diss       \n",
        "        GLCM_hom = greycoprops(GLCM, 'homogeneity')[0]\n",
        "        df['Homogen'] = GLCM_hom       \n",
        "        GLCM_contr = greycoprops(GLCM, 'contrast')[0]\n",
        "        df['Contrast'] = GLCM_contr\n",
        "\n",
        "\n",
        "        GLCM2 = greycomatrix(img, [3], [0])       \n",
        "        GLCM_Energy2 = greycoprops(GLCM2, 'energy')[0]\n",
        "        df['Energy2'] = GLCM_Energy2\n",
        "        GLCM_corr2 = greycoprops(GLCM2, 'correlation')[0]\n",
        "        df['Corr2'] = GLCM_corr2       \n",
        "        GLCM_diss2 = greycoprops(GLCM2, 'dissimilarity')[0]\n",
        "        df['Diss_sim2'] = GLCM_diss2       \n",
        "        GLCM_hom2 = greycoprops(GLCM2, 'homogeneity')[0]\n",
        "        df['Homogen2'] = GLCM_hom2       \n",
        "        GLCM_contr2 = greycoprops(GLCM2, 'contrast')[0]\n",
        "        df['Contrast2'] = GLCM_contr2\n",
        "\n",
        "        GLCM3 = greycomatrix(img, [5], [0])       \n",
        "        GLCM_Energy3 = greycoprops(GLCM3, 'energy')[0]\n",
        "        df['Energy3'] = GLCM_Energy3\n",
        "        GLCM_corr3 = greycoprops(GLCM3, 'correlation')[0]\n",
        "        df['Corr3'] = GLCM_corr3       \n",
        "        GLCM_diss3 = greycoprops(GLCM3, 'dissimilarity')[0]\n",
        "        df['Diss_sim3'] = GLCM_diss3       \n",
        "        GLCM_hom3 = greycoprops(GLCM3, 'homogeneity')[0]\n",
        "        df['Homogen3'] = GLCM_hom3       \n",
        "        GLCM_contr3 = greycoprops(GLCM3, 'contrast')[0]\n",
        "        df['Contrast3'] = GLCM_contr3\n",
        "\n",
        "        GLCM4 = greycomatrix(img, [0], [np.pi/4])       \n",
        "        GLCM_Energy4 = greycoprops(GLCM4, 'energy')[0]\n",
        "        df['Energy4'] = GLCM_Energy4\n",
        "        GLCM_corr4 = greycoprops(GLCM4, 'correlation')[0]\n",
        "        df['Corr4'] = GLCM_corr4       \n",
        "        GLCM_diss4 = greycoprops(GLCM4, 'dissimilarity')[0]\n",
        "        df['Diss_sim4'] = GLCM_diss4       \n",
        "        GLCM_hom4 = greycoprops(GLCM4, 'homogeneity')[0]\n",
        "        df['Homogen4'] = GLCM_hom4       \n",
        "        GLCM_contr4 = greycoprops(GLCM4, 'contrast')[0]\n",
        "        df['Contrast4'] = GLCM_contr4\n",
        "        \n",
        "        GLCM5 = greycomatrix(img, [0], [np.pi/2])       \n",
        "        GLCM_Energy5 = greycoprops(GLCM5, 'energy')[0]\n",
        "        df['Energy5'] = GLCM_Energy5\n",
        "        GLCM_corr5 = greycoprops(GLCM5, 'correlation')[0]\n",
        "        df['Corr5'] = GLCM_corr5       \n",
        "        GLCM_diss5 = greycoprops(GLCM5, 'dissimilarity')[0]\n",
        "        df['Diss_sim5'] = GLCM_diss5       \n",
        "        GLCM_hom5 = greycoprops(GLCM5, 'homogeneity')[0]\n",
        "        df['Homogen5'] = GLCM_hom5       \n",
        "        GLCM_contr5 = greycoprops(GLCM5, 'contrast')[0]\n",
        "        df['Contrast5'] = GLCM_contr5\n",
        "        \n",
        "        #Add more filters as needed\n",
        "        #entropy = shannon_entropy(img)\n",
        "        #df['Entropy'] = entropy\n",
        "\n",
        "        \n",
        "        #Append features from current image to the dataset\n",
        "        image_dataset = image_dataset.append(df)\n",
        "        \n",
        "    return image_dataset"
      ],
      "metadata": {
        "id": "A_wjMvQlNsgb"
      },
      "execution_count": null,
      "outputs": []
    },
    {
      "cell_type": "markdown",
      "source": [
        "### Lukas kanade"
      ],
      "metadata": {
        "id": "UITKR7JTOocJ"
      }
    },
    {
      "cell_type": "code",
      "source": [
        "dir='videos'\n",
        "categories=['flood', 'agri', 'drought']\n",
        "videos = []\n",
        "labels = []\n",
        "for category in categories:\n",
        "    path=os.path.join(dir,category)\n",
        "    label=categories.index(category)\n",
        "    for img in os.listdir(path):\n",
        "        imgpath=os.path.join(path,img)\n",
        "        videos.append(imgpath)\n",
        "        labels.append(label)"
      ],
      "metadata": {
        "id": "t4JJrZrdO1B2"
      },
      "execution_count": null,
      "outputs": []
    },
    {
      "cell_type": "code",
      "source": [
        "labels[0]"
      ],
      "metadata": {
        "colab": {
          "base_uri": "https://localhost:8080/"
        },
        "id": "kKc1T6zmV_2H",
        "outputId": "6d65c396-db45-476a-9b9f-4de8d9a11b25"
      },
      "execution_count": null,
      "outputs": [
        {
          "output_type": "execute_result",
          "data": {
            "text/plain": [
              "0"
            ]
          },
          "metadata": {},
          "execution_count": 33
        }
      ]
    },
    {
      "cell_type": "code",
      "source": [
        "import cv2\n",
        "import numpy as np\n",
        "from sklearn.svm import SVC\n",
        "from sklearn.model_selection import train_test_split\n",
        "\n",
        "lk_params = dict( winSize  = (15,15),\n",
        "                  maxLevel = 2,\n",
        "                  criteria = (cv2.TERM_CRITERIA_EPS | cv2.TERM_CRITERIA_COUNT, 10, 0.03))\n",
        "\n",
        "data = []\n",
        "dynamic_features = []\n",
        "frame_labels = []\n",
        "\n",
        "for i in range(len(videos)):\n",
        "    feature_params = dict( maxCorners = 100,\n",
        "                        qualityLevel = 0.3,\n",
        "                        minDistance = 7,\n",
        "                        blockSize = 7 )\n",
        "\n",
        "    cap = cv2.VideoCapture(videos[i])\n",
        "\n",
        "    ret, old_frame = cap.read()\n",
        "\n",
        "    # filters\n",
        "\n",
        "    old_gray = cv2.cvtColor(old_frame, cv2.COLOR_BGR2GRAY)\n",
        "\n",
        "    # old_frame=cv2.resize(old_gray,(50,50))\n",
        "    # gfilters = create_gaborfilter()\n",
        "    # old_frame = apply_filter(old_frame, gfilters)\n",
        "\n",
        "    old_frame=cv2.resize(old_gray,(50,50))\n",
        "    # print(pet_img.shape)\n",
        "    height, width = old_frame.shape\n",
        "    # img_gray = cv2.cvtColor(pet_img,cv2.COLOR_BGR2GRAY)\n",
        "    img_lbp_old = np.zeros((height, width),np.uint8)\n",
        "    for k in range(0, height):\n",
        "        for j in range(0, width):\n",
        "            img_lbp_old[k, j] = lbp_calculated_pixel(old_frame, k, j)\n",
        "    \n",
        "    p0 = cv2.goodFeaturesToTrack(img_lbp_old, mask = None, **feature_params)\n",
        "    \n",
        "    while True:\n",
        "        ret, frame = cap.read()\n",
        "        if not ret:\n",
        "            break\n",
        "        \n",
        "        # filters\n",
        "\n",
        "        frame_gray = cv2.cvtColor(frame, cv2.COLOR_BGR2GRAY)\n",
        "\n",
        "        # frame=cv2.resize(frame_gray,(50,50))\n",
        "        # gfilters = create_gaborfilter()\n",
        "        # frame = apply_filter(frame, gfilters)\n",
        "        # data.append(frame)\n",
        "\n",
        "\n",
        "        frame=cv2.resize(frame_gray,(50,50))\n",
        "        # print(pet_img.shape)\n",
        "        height, width = frame.shape\n",
        "        # img_gray = cv2.cvtColor(pet_img,cv2.COLOR_BGR2GRAY)\n",
        "        img_lbp_new = np.zeros((height, width),np.uint8)\n",
        "        for k in range(0, height):\n",
        "            for j in range(0, width):\n",
        "                img_lbp_new[k, j] = lbp_calculated_pixel(frame, k, j)\n",
        "        data.append(img_lbp_new)\n",
        "\n",
        "        p1, st, err = cv2.calcOpticalFlowPyrLK(img_lbp_old, img_lbp_new, p0, None, **lk_params)\n",
        "\n",
        "        flow_magnitude = np.sqrt(p1[:,:,0]**2 + p1[:,:,1]**2)\n",
        "        dynamic_features.append(np.mean(flow_magnitude))\n",
        "        # print(i)\n",
        "        # print(labels[i])\n",
        "        frame_labels.append(labels[i])\n",
        "        # print(frame_labels)\n",
        "        old_gray = frame_gray.copy()\n",
        "\n",
        "    cap.release()"
      ],
      "metadata": {
        "id": "XpsYaFfsO1lG"
      },
      "execution_count": null,
      "outputs": []
    },
    {
      "cell_type": "code",
      "source": [
        "data = np.array(data)"
      ],
      "metadata": {
        "id": "4VzMIvF8O7ZJ"
      },
      "execution_count": null,
      "outputs": []
    },
    {
      "cell_type": "code",
      "source": [
        "data = feature_extractor(data)"
      ],
      "metadata": {
        "id": "RLIO__llPDvT"
      },
      "execution_count": null,
      "outputs": []
    },
    {
      "cell_type": "code",
      "source": [
        "data = pd.DataFrame(data)"
      ],
      "metadata": {
        "id": "X09DyPjSPJFr"
      },
      "execution_count": null,
      "outputs": []
    },
    {
      "cell_type": "code",
      "source": [
        "dynamic_features = pd.DataFrame(dynamic_features)"
      ],
      "metadata": {
        "id": "BzoAC1bPPNF7"
      },
      "execution_count": null,
      "outputs": []
    },
    {
      "cell_type": "code",
      "source": [
        "df = pd.concat([dynamic_features.reset_index(drop=True), data.reset_index(drop=True)], axis=1)"
      ],
      "metadata": {
        "id": "zbDn2XzzPNyi"
      },
      "execution_count": null,
      "outputs": []
    },
    {
      "cell_type": "code",
      "source": [
        "X_train,X_test,Y_train,Y_test=train_test_split(df, frame_labels, test_size=0.25,random_state=42)"
      ],
      "metadata": {
        "id": "6lLVEHxbPUbh"
      },
      "execution_count": null,
      "outputs": []
    },
    {
      "cell_type": "code",
      "source": [
        "clf_svc = SVC()\n",
        "clf_svc.fit(X_train, Y_train)\n",
        "y_pred_svc = clf_svc.predict(X_test)\n",
        "accuracy_svc = accuracy_score(Y_test, y_pred_svc)\n",
        "\n",
        "\n",
        "clf_gaussian = GaussianNB()\n",
        "clf_gaussian.fit(X_train, Y_train)\n",
        "y_pred_gaussian = clf_gaussian.predict(X_test)\n",
        "accuracy_gaussian = accuracy_score(Y_test, y_pred_gaussian)\n",
        "\n",
        "clf_logistic = LogisticRegression()\n",
        "clf_logistic.fit(X_train, Y_train)\n",
        "y_pred_logistic = clf_logistic.predict(X_test)\n",
        "\n",
        "print(\"===SVC===\")\n",
        "evaluate_model(Y_test, y_pred_svc)\n",
        "print(\"===Gaussian===\")\n",
        "evaluate_model(Y_test, y_pred_gaussian)\n",
        "print(\"===Logistic===\")\n",
        "evaluate_model(Y_test, y_pred_logistic)"
      ],
      "metadata": {
        "colab": {
          "base_uri": "https://localhost:8080/"
        },
        "id": "WO669OyIPX3G",
        "outputId": "258c36b5-9d2e-4cd3-e522-9e5e88b5ecc7"
      },
      "execution_count": null,
      "outputs": [
        {
          "output_type": "stream",
          "name": "stderr",
          "text": [
            "/usr/local/lib/python3.8/dist-packages/sklearn/utils/validation.py:1688: FutureWarning: Feature names only support names that are all strings. Got feature names with dtypes: ['int', 'str']. An error will be raised in 1.2.\n",
            "  warnings.warn(\n",
            "/usr/local/lib/python3.8/dist-packages/sklearn/utils/validation.py:1688: FutureWarning: Feature names only support names that are all strings. Got feature names with dtypes: ['int', 'str']. An error will be raised in 1.2.\n",
            "  warnings.warn(\n",
            "/usr/local/lib/python3.8/dist-packages/sklearn/utils/validation.py:1688: FutureWarning: Feature names only support names that are all strings. Got feature names with dtypes: ['int', 'str']. An error will be raised in 1.2.\n",
            "  warnings.warn(\n",
            "/usr/local/lib/python3.8/dist-packages/sklearn/utils/validation.py:1688: FutureWarning: Feature names only support names that are all strings. Got feature names with dtypes: ['int', 'str']. An error will be raised in 1.2.\n",
            "  warnings.warn(\n",
            "/usr/local/lib/python3.8/dist-packages/sklearn/utils/validation.py:1688: FutureWarning: Feature names only support names that are all strings. Got feature names with dtypes: ['int', 'str']. An error will be raised in 1.2.\n",
            "  warnings.warn(\n"
          ]
        },
        {
          "output_type": "stream",
          "name": "stdout",
          "text": [
            "===SVC===\n",
            "Accuracy: 0.63\n",
            "Precision: 0.63\n",
            "Recall: 0.63\n",
            "F1 score: 0.63\n",
            "===Gaussian===\n",
            "Accuracy: 0.41\n",
            "Precision: 0.41\n",
            "Recall: 0.41\n",
            "F1 score: 0.41\n",
            "===Logistic===\n",
            "Accuracy: 0.62\n",
            "Precision: 0.62\n",
            "Recall: 0.62\n",
            "F1 score: 0.62\n"
          ]
        },
        {
          "output_type": "stream",
          "name": "stderr",
          "text": [
            "/usr/local/lib/python3.8/dist-packages/sklearn/linear_model/_logistic.py:814: ConvergenceWarning: lbfgs failed to converge (status=1):\n",
            "STOP: TOTAL NO. of ITERATIONS REACHED LIMIT.\n",
            "\n",
            "Increase the number of iterations (max_iter) or scale the data as shown in:\n",
            "    https://scikit-learn.org/stable/modules/preprocessing.html\n",
            "Please also refer to the documentation for alternative solver options:\n",
            "    https://scikit-learn.org/stable/modules/linear_model.html#logistic-regression\n",
            "  n_iter_i = _check_optimize_result(\n",
            "/usr/local/lib/python3.8/dist-packages/sklearn/utils/validation.py:1688: FutureWarning: Feature names only support names that are all strings. Got feature names with dtypes: ['int', 'str']. An error will be raised in 1.2.\n",
            "  warnings.warn(\n"
          ]
        }
      ]
    },
    {
      "cell_type": "markdown",
      "source": [
        "## gabor filter + local binary and lukas kanade"
      ],
      "metadata": {
        "id": "yPm5AkD9PZKo"
      }
    },
    {
      "cell_type": "markdown",
      "source": [
        "### gabor filter + local binary"
      ],
      "metadata": {
        "id": "686yd6-hRUbG"
      }
    },
    {
      "cell_type": "code",
      "source": [
        "import cv2\n",
        "import numpy as np\n",
        "from matplotlib import pyplot as plt\n",
        "  \n",
        "     \n",
        "def get_pixel(img, center, x, y):\n",
        "     \n",
        "    new_value = 0\n",
        "     \n",
        "    try:\n",
        "        if img[x][y] >= center:\n",
        "            new_value = 1\n",
        "             \n",
        "    except:\n",
        "        pass\n",
        "     \n",
        "    return new_value\n",
        "  \n",
        "def lbp_calculated_pixel(img, x, y):\n",
        "    center = img[x][y]\n",
        "    val_ar = []\n",
        "    val_ar.append(get_pixel(img, center, x-1, y-1))\n",
        "    val_ar.append(get_pixel(img, center, x-1, y))\n",
        "    val_ar.append(get_pixel(img, center, x-1, y + 1))\n",
        "    val_ar.append(get_pixel(img, center, x, y + 1))\n",
        "    val_ar.append(get_pixel(img, center, x + 1, y + 1))\n",
        "    val_ar.append(get_pixel(img, center, x + 1, y))\n",
        "    val_ar.append(get_pixel(img, center, x + 1, y-1))\n",
        "    val_ar.append(get_pixel(img, center, x, y-1))\n",
        "    power_val = [1, 2, 4, 8, 16, 32, 64, 128]\n",
        "  \n",
        "    val = 0\n",
        "     \n",
        "    for i in range(len(val_ar)):\n",
        "        val += val_ar[i] * power_val[i]\n",
        "         \n",
        "    return val\n",
        "  "
      ],
      "metadata": {
        "id": "Io0TGaEqShy9"
      },
      "execution_count": null,
      "outputs": []
    },
    {
      "cell_type": "code",
      "source": [
        "def create_gaborfilter():\n",
        "    filters = []\n",
        "    num_filters = 16\n",
        "    ksize = 35 \n",
        "    sigma = 3.0 \n",
        "    lambd = 10.0\n",
        "    gamma = 0.5\n",
        "    psi = 0  \n",
        "    for theta in np.arange(0, np.pi, np.pi / num_filters): \n",
        "        kern = cv2.getGaborKernel((ksize, ksize), sigma, theta, lambd, gamma, psi, ktype=cv2.CV_64F)\n",
        "        kern /= 1.0 * kern.sum()\n",
        "        filters.append(kern)\n",
        "    return filters"
      ],
      "metadata": {
        "id": "VtX9KBciRbNl"
      },
      "execution_count": null,
      "outputs": []
    },
    {
      "cell_type": "code",
      "source": [
        "def apply_filter(img, filters):\n",
        "    newimage = np.zeros_like(img)\n",
        "    depth = -1\n",
        "    for kern in filters:\n",
        "        image_filter = cv2.filter2D(img, depth, kern)\n",
        "        np.maximum(newimage, image_filter, newimage)\n",
        "    return newimage"
      ],
      "metadata": {
        "id": "t936-3k5RbHS"
      },
      "execution_count": null,
      "outputs": []
    },
    {
      "cell_type": "code",
      "source": [
        "def feature_extractor(dataset):\n",
        "    image_dataset = pd.DataFrame()\n",
        "    for image in range(dataset.shape[0]):  #iterate through each file \n",
        "        #print(image)\n",
        "        \n",
        "        df = pd.DataFrame()  #Temporary data frame to capture information for each loop.\n",
        "        #Reset dataframe to blank after each loop.\n",
        "        \n",
        "        img = dataset[image, :]\n",
        "    ################################################################\n",
        "    #START ADDING DATA TO THE DATAFRAME\n",
        "  \n",
        "                \n",
        "         #Full image\n",
        "        #GLCM = greycomatrix(img, [1], [0, np.pi/4, np.pi/2, 3*np.pi/4])\n",
        "        GLCM = greycomatrix(img, [1], [0])       \n",
        "        GLCM_Energy = greycoprops(GLCM, 'energy')[0]\n",
        "        df['Energy'] = GLCM_Energy\n",
        "        GLCM_corr = greycoprops(GLCM, 'correlation')[0]\n",
        "        df['Corr'] = GLCM_corr       \n",
        "        GLCM_diss = greycoprops(GLCM, 'dissimilarity')[0]\n",
        "        df['Diss_sim'] = GLCM_diss       \n",
        "        GLCM_hom = greycoprops(GLCM, 'homogeneity')[0]\n",
        "        df['Homogen'] = GLCM_hom       \n",
        "        GLCM_contr = greycoprops(GLCM, 'contrast')[0]\n",
        "        df['Contrast'] = GLCM_contr\n",
        "\n",
        "\n",
        "        GLCM2 = greycomatrix(img, [3], [0])       \n",
        "        GLCM_Energy2 = greycoprops(GLCM2, 'energy')[0]\n",
        "        df['Energy2'] = GLCM_Energy2\n",
        "        GLCM_corr2 = greycoprops(GLCM2, 'correlation')[0]\n",
        "        df['Corr2'] = GLCM_corr2       \n",
        "        GLCM_diss2 = greycoprops(GLCM2, 'dissimilarity')[0]\n",
        "        df['Diss_sim2'] = GLCM_diss2       \n",
        "        GLCM_hom2 = greycoprops(GLCM2, 'homogeneity')[0]\n",
        "        df['Homogen2'] = GLCM_hom2       \n",
        "        GLCM_contr2 = greycoprops(GLCM2, 'contrast')[0]\n",
        "        df['Contrast2'] = GLCM_contr2\n",
        "\n",
        "        GLCM3 = greycomatrix(img, [5], [0])       \n",
        "        GLCM_Energy3 = greycoprops(GLCM3, 'energy')[0]\n",
        "        df['Energy3'] = GLCM_Energy3\n",
        "        GLCM_corr3 = greycoprops(GLCM3, 'correlation')[0]\n",
        "        df['Corr3'] = GLCM_corr3       \n",
        "        GLCM_diss3 = greycoprops(GLCM3, 'dissimilarity')[0]\n",
        "        df['Diss_sim3'] = GLCM_diss3       \n",
        "        GLCM_hom3 = greycoprops(GLCM3, 'homogeneity')[0]\n",
        "        df['Homogen3'] = GLCM_hom3       \n",
        "        GLCM_contr3 = greycoprops(GLCM3, 'contrast')[0]\n",
        "        df['Contrast3'] = GLCM_contr3\n",
        "\n",
        "        GLCM4 = greycomatrix(img, [0], [np.pi/4])       \n",
        "        GLCM_Energy4 = greycoprops(GLCM4, 'energy')[0]\n",
        "        df['Energy4'] = GLCM_Energy4\n",
        "        GLCM_corr4 = greycoprops(GLCM4, 'correlation')[0]\n",
        "        df['Corr4'] = GLCM_corr4       \n",
        "        GLCM_diss4 = greycoprops(GLCM4, 'dissimilarity')[0]\n",
        "        df['Diss_sim4'] = GLCM_diss4       \n",
        "        GLCM_hom4 = greycoprops(GLCM4, 'homogeneity')[0]\n",
        "        df['Homogen4'] = GLCM_hom4       \n",
        "        GLCM_contr4 = greycoprops(GLCM4, 'contrast')[0]\n",
        "        df['Contrast4'] = GLCM_contr4\n",
        "        \n",
        "        GLCM5 = greycomatrix(img, [0], [np.pi/2])       \n",
        "        GLCM_Energy5 = greycoprops(GLCM5, 'energy')[0]\n",
        "        df['Energy5'] = GLCM_Energy5\n",
        "        GLCM_corr5 = greycoprops(GLCM5, 'correlation')[0]\n",
        "        df['Corr5'] = GLCM_corr5       \n",
        "        GLCM_diss5 = greycoprops(GLCM5, 'dissimilarity')[0]\n",
        "        df['Diss_sim5'] = GLCM_diss5       \n",
        "        GLCM_hom5 = greycoprops(GLCM5, 'homogeneity')[0]\n",
        "        df['Homogen5'] = GLCM_hom5       \n",
        "        GLCM_contr5 = greycoprops(GLCM5, 'contrast')[0]\n",
        "        df['Contrast5'] = GLCM_contr5\n",
        "        \n",
        "        #Add more filters as needed\n",
        "        #entropy = shannon_entropy(img)\n",
        "        #df['Entropy'] = entropy\n",
        "\n",
        "        \n",
        "        #Append features from current image to the dataset\n",
        "        image_dataset = image_dataset.append(df)\n",
        "        \n",
        "    return image_dataset"
      ],
      "metadata": {
        "id": "i-mRrmh6bLvb"
      },
      "execution_count": null,
      "outputs": []
    },
    {
      "cell_type": "markdown",
      "source": [
        "### Lukas kanade"
      ],
      "metadata": {
        "id": "OyUl8ZjCRR4l"
      }
    },
    {
      "cell_type": "code",
      "source": [
        "dir='videos'\n",
        "categories=['flood', 'agri', 'drought']\n",
        "videos = []\n",
        "labels = []\n",
        "for category in categories:\n",
        "    path=os.path.join(dir,category)\n",
        "    label=categories.index(category)\n",
        "    for img in os.listdir(path):\n",
        "        imgpath=os.path.join(path,img)\n",
        "        videos.append(imgpath)\n",
        "        labels.append(label)"
      ],
      "metadata": {
        "id": "JpkWJM8ERaks"
      },
      "execution_count": null,
      "outputs": []
    },
    {
      "cell_type": "code",
      "source": [
        "import cv2\n",
        "import numpy as np\n",
        "from sklearn.svm import SVC\n",
        "from sklearn.model_selection import train_test_split\n",
        "\n",
        "lk_params = dict( winSize  = (15,15),\n",
        "                  maxLevel = 2,\n",
        "                  criteria = (cv2.TERM_CRITERIA_EPS | cv2.TERM_CRITERIA_COUNT, 10, 0.03))\n",
        "\n",
        "data = []\n",
        "dynamic_features = []\n",
        "frame_labels = []\n",
        "\n",
        "for i in range(len(videos)):\n",
        "    feature_params = dict( maxCorners = 100,\n",
        "                        qualityLevel = 0.3,\n",
        "                        minDistance = 7,\n",
        "                        blockSize = 7 )\n",
        "\n",
        "    cap = cv2.VideoCapture(videos[i])\n",
        "\n",
        "    ret, old_frame = cap.read()\n",
        "\n",
        "    # filters\n",
        "\n",
        "    old_gray = cv2.cvtColor(old_frame, cv2.COLOR_BGR2GRAY)\n",
        "\n",
        "    old_frame=cv2.resize(old_gray,(50,50))\n",
        "    gfilters = create_gaborfilter()\n",
        "    old_frame = apply_filter(old_frame, gfilters)\n",
        "\n",
        "    height, width = old_frame.shape\n",
        "    # img_gray = cv2.cvtColor(pet_img,cv2.COLOR_BGR2GRAY)\n",
        "    img_lbp_old = np.zeros((height, width),np.uint8)\n",
        "    for k in range(0, height):\n",
        "        for j in range(0, width):\n",
        "            img_lbp_old[k, j] = lbp_calculated_pixel(old_frame, k, j)\n",
        "\n",
        "    \n",
        "    p0 = cv2.goodFeaturesToTrack(img_lbp_old, mask = None, **feature_params)\n",
        "    \n",
        "    while True:\n",
        "        ret, frame = cap.read()\n",
        "        if not ret:\n",
        "            break\n",
        "        \n",
        "        # filters\n",
        "\n",
        "        frame_gray = cv2.cvtColor(frame, cv2.COLOR_BGR2GRAY)\n",
        "\n",
        "        frame=cv2.resize(frame_gray,(50,50))\n",
        "        gfilters = create_gaborfilter()\n",
        "        frame = apply_filter(frame, gfilters)\n",
        "\n",
        "        height, width = frame.shape\n",
        "        # img_gray = cv2.cvtColor(pet_img,cv2.COLOR_BGR2GRAY)\n",
        "        img_lbp_new = np.zeros((height, width),np.uint8)\n",
        "        for k in range(0, height):\n",
        "            for j in range(0, width):\n",
        "                img_lbp_new[k, j] = lbp_calculated_pixel(frame, k, j)\n",
        "        data.append(img_lbp_new)\n",
        "\n",
        "        p1, st, err = cv2.calcOpticalFlowPyrLK(img_lbp_old, img_lbp_new, p0, None, **lk_params)\n",
        "\n",
        "        flow_magnitude = np.sqrt(p1[:,:,0]**2 + p1[:,:,1]**2)\n",
        "        dynamic_features.append(np.mean(flow_magnitude))\n",
        "        frame_labels.append(labels[i])\n",
        "        old_gray = frame_gray.copy()\n",
        "\n",
        "    cap.release()"
      ],
      "metadata": {
        "id": "b6Uq9d9TRgl9"
      },
      "execution_count": null,
      "outputs": []
    },
    {
      "cell_type": "code",
      "source": [
        "data = np.array(data)"
      ],
      "metadata": {
        "id": "sYQqOMLPRkQm"
      },
      "execution_count": null,
      "outputs": []
    },
    {
      "cell_type": "code",
      "source": [
        "data = feature_extractor(data)"
      ],
      "metadata": {
        "id": "dzsCasiqRmqS"
      },
      "execution_count": null,
      "outputs": []
    },
    {
      "cell_type": "code",
      "source": [
        "data = pd.DataFrame(data)"
      ],
      "metadata": {
        "id": "svImTkDURnHG"
      },
      "execution_count": null,
      "outputs": []
    },
    {
      "cell_type": "code",
      "source": [
        "dynamic_features = pd.DataFrame(dynamic_features)"
      ],
      "metadata": {
        "id": "IKUHV0WNRtXF"
      },
      "execution_count": null,
      "outputs": []
    },
    {
      "cell_type": "code",
      "source": [
        "df = pd.concat([dynamic_features.reset_index(drop=True), data.reset_index(drop=True)], axis=1)"
      ],
      "metadata": {
        "id": "1VL9CsS5RwjK"
      },
      "execution_count": null,
      "outputs": []
    },
    {
      "cell_type": "code",
      "source": [
        "X_train,X_test,Y_train,Y_test=train_test_split(df, frame_labels, test_size=0.25,random_state=42)"
      ],
      "metadata": {
        "id": "9PE8AanRR0ML"
      },
      "execution_count": null,
      "outputs": []
    },
    {
      "cell_type": "code",
      "source": [
        "clf_svc = SVC()\n",
        "clf_svc.fit(X_train, Y_train)\n",
        "y_pred_svc = clf_svc.predict(X_test)\n",
        "accuracy_svc = accuracy_score(Y_test, y_pred_svc)\n",
        "\n",
        "\n",
        "clf_gaussian = GaussianNB()\n",
        "clf_gaussian.fit(X_train, Y_train)\n",
        "y_pred_gaussian = clf_gaussian.predict(X_test)\n",
        "accuracy_gaussian = accuracy_score(Y_test, y_pred_gaussian)\n",
        "\n",
        "clf_logistic = LogisticRegression()\n",
        "clf_logistic.fit(X_train, Y_train)\n",
        "y_pred_logistic = clf_logistic.predict(X_test)\n",
        "\n",
        "print(\"===SVC===\")\n",
        "evaluate_model(Y_test, y_pred_svc)\n",
        "print(\"===Gaussian===\")\n",
        "evaluate_model(Y_test, y_pred_gaussian)\n",
        "print(\"===Logistic===\")\n",
        "evaluate_model(Y_test, y_pred_logistic)"
      ],
      "metadata": {
        "colab": {
          "base_uri": "https://localhost:8080/"
        },
        "id": "cGSxv0cXR28l",
        "outputId": "840461ef-0104-41bf-e684-e8b7b0421084"
      },
      "execution_count": null,
      "outputs": [
        {
          "output_type": "stream",
          "name": "stderr",
          "text": [
            "/usr/local/lib/python3.8/dist-packages/sklearn/utils/validation.py:1688: FutureWarning: Feature names only support names that are all strings. Got feature names with dtypes: ['int', 'str']. An error will be raised in 1.2.\n",
            "  warnings.warn(\n",
            "/usr/local/lib/python3.8/dist-packages/sklearn/utils/validation.py:1688: FutureWarning: Feature names only support names that are all strings. Got feature names with dtypes: ['int', 'str']. An error will be raised in 1.2.\n",
            "  warnings.warn(\n",
            "/usr/local/lib/python3.8/dist-packages/sklearn/utils/validation.py:1688: FutureWarning: Feature names only support names that are all strings. Got feature names with dtypes: ['int', 'str']. An error will be raised in 1.2.\n",
            "  warnings.warn(\n",
            "/usr/local/lib/python3.8/dist-packages/sklearn/utils/validation.py:1688: FutureWarning: Feature names only support names that are all strings. Got feature names with dtypes: ['int', 'str']. An error will be raised in 1.2.\n",
            "  warnings.warn(\n",
            "/usr/local/lib/python3.8/dist-packages/sklearn/utils/validation.py:1688: FutureWarning: Feature names only support names that are all strings. Got feature names with dtypes: ['int', 'str']. An error will be raised in 1.2.\n",
            "  warnings.warn(\n"
          ]
        },
        {
          "output_type": "stream",
          "name": "stdout",
          "text": [
            "===SVC===\n",
            "Accuracy: 0.61\n",
            "Precision: 0.61\n",
            "Recall: 0.61\n",
            "F1 score: 0.61\n",
            "===Gaussian===\n",
            "Accuracy: 0.52\n",
            "Precision: 0.52\n",
            "Recall: 0.52\n",
            "F1 score: 0.52\n",
            "===Logistic===\n",
            "Accuracy: 0.56\n",
            "Precision: 0.56\n",
            "Recall: 0.56\n",
            "F1 score: 0.56\n"
          ]
        },
        {
          "output_type": "stream",
          "name": "stderr",
          "text": [
            "/usr/local/lib/python3.8/dist-packages/sklearn/linear_model/_logistic.py:814: ConvergenceWarning: lbfgs failed to converge (status=1):\n",
            "STOP: TOTAL NO. of ITERATIONS REACHED LIMIT.\n",
            "\n",
            "Increase the number of iterations (max_iter) or scale the data as shown in:\n",
            "    https://scikit-learn.org/stable/modules/preprocessing.html\n",
            "Please also refer to the documentation for alternative solver options:\n",
            "    https://scikit-learn.org/stable/modules/linear_model.html#logistic-regression\n",
            "  n_iter_i = _check_optimize_result(\n",
            "/usr/local/lib/python3.8/dist-packages/sklearn/utils/validation.py:1688: FutureWarning: Feature names only support names that are all strings. Got feature names with dtypes: ['int', 'str']. An error will be raised in 1.2.\n",
            "  warnings.warn(\n"
          ]
        }
      ]
    },
    {
      "cell_type": "code",
      "source": [],
      "metadata": {
        "id": "nEiOv8QfbOyI"
      },
      "execution_count": null,
      "outputs": []
    }
  ],
  "metadata": {
    "kernelspec": {
      "display_name": "Python 3",
      "language": "python",
      "name": "python3"
    },
    "language_info": {
      "codemirror_mode": {
        "name": "ipython",
        "version": 3
      },
      "file_extension": ".py",
      "mimetype": "text/x-python",
      "name": "python",
      "nbconvert_exporter": "python",
      "pygments_lexer": "ipython3",
      "version": "3.8.10 (default, Nov 14 2022, 12:59:47) \n[GCC 9.4.0]"
    },
    "orig_nbformat": 4,
    "vscode": {
      "interpreter": {
        "hash": "31f2aee4e71d21fbe5cf8b01ff0e069b9275f58929596ceb00d14d90e3e16cd6"
      }
    },
    "colab": {
      "provenance": []
    }
  },
  "nbformat": 4,
  "nbformat_minor": 0
}